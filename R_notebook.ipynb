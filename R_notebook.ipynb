{
 "cells": [
  {
   "cell_type": "markdown",
   "metadata": {},
   "source": [
    "# Introduction to Jupyter Notebooks\n",
    "\n",
    "## Practical session\n",
    "\n",
    "In this notebook we are using the R kernel for Jupyter which means we can natively run R code.\n",
    "\n",
    "Please notice you are running this notebook usign Binder ([learn more about Binder](https://mybinder.readthedocs.io/en/latest/)). In a nutshell, Binder is a cloud service which allows you to connect a git repository, build and deploy a customized container/environment based on your requirements (i.e. software and packages) thus providing an interactive interface for multiple users (up to 100 simultaneously) to your repo (code and data?). Binder is open source, the public version has many limitations (1-2 GB, finish sessions are ephemeral, and more). People can deploy Binder and the underlying tools (repo2docker, Jupyter Hub, BinderHub) in your own network.\n",
    "\n",
    "\n",
    "Binder requires specific files which specify what program and version should be installed, what packages and version should be installed, and what environment should be launch. In this notebook-environment the following R packages were installed:\n",
    "\n",
    "ggplot2\n",
    "tidyr\n",
    "plyr\n",
    "dplyr\n",
    "spatstat\n",
    "raster\n",
    "\n",
    "\n",
    "\n",
    "Please feel free to use functions from these packages at your will.\n",
    "\n",
    "Notice that you all will be presented with the original notebook I have prepared. However, as this is an interactive notebook, you can modify the code (add or remove lines, analysis, notes, etc) in your own sessions. These changes are ephemeral, this mean the original notebook hosted in GitHub is not affected.\n",
    "\n",
    "I have make available three data sets for you to play:\n",
    "\n",
    "- data1: \n",
    "\n",
    "\n",
    "- data2:\n",
    "\n",
    "\n",
    "- data3:\n",
    "\n",
    "\n"
   ]
  },
  {
   "cell_type": "code",
   "execution_count": null,
   "metadata": {},
   "outputs": [],
   "source": []
  },
  {
   "cell_type": "code",
   "execution_count": null,
   "metadata": {},
   "outputs": [],
   "source": []
  }
 ],
 "metadata": {
  "kernelspec": {
   "display_name": "Python 3",
   "language": "python",
   "name": "python3"
  },
  "language_info": {
   "codemirror_mode": {
    "name": "ipython",
    "version": 3
   },
   "file_extension": ".py",
   "mimetype": "text/x-python",
   "name": "python",
   "nbconvert_exporter": "python",
   "pygments_lexer": "ipython3",
   "version": "3.7.1"
  }
 },
 "nbformat": 4,
 "nbformat_minor": 2
}
