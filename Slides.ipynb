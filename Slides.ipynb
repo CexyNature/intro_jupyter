{
 "cells": [
  {
   "cell_type": "markdown",
   "metadata": {
    "slideshow": {
     "slide_type": "slide"
    }
   },
   "source": [
    "# An introduction to Jupyter Notebook and Jupyter Lab\n",
    "\n",
    "\n",
    "by César Herrera"
   ]
  },
  {
   "cell_type": "markdown",
   "metadata": {
    "slideshow": {
     "slide_type": "slide"
    }
   },
   "source": [
    "## Motivation\n",
    "\n",
    "I am an advocate of reproducibility in science. \n",
    "\n",
    "I believe that toools such as ROpenSci, Jupyter Notebook, Jupyter Lab, Jupyter Hub, Binder, Docker, Rstudio, and many others are making easier the process of:\n",
    "\n",
    "- Sharing, and\n",
    "- Reproducing\n",
    "\n",
    "our research in an **interactive** and **deployable** container available to everyone.\n",
    "\n",
    "Which in turns have the potential to improve science and accelerate the adoption of iinovative and worthy ideas, paradigms and knowledge."
   ]
  },
  {
   "cell_type": "markdown",
   "metadata": {
    "slideshow": {
     "slide_type": "slide"
    }
   },
   "source": [
    "## Problem\n",
    "\n",
    "Reproducing someone else research is hard.\n",
    "\n",
    "Even when you suceed in reproducing analysis results might differ depending on your programming and package version <sup>1</sup> \n",
    "\n",
    "\n",
    "<sup>1</sup> *Beaulieu-Jones, B., Greene, C. Reproducibility of computational workflows is automated using continuous analysis. Nat Biotechnol 35, 342–346 (2017). https://doi.org/10.1038/nbt.3780*\n",
    "\n"
   ]
  },
  {
   "cell_type": "markdown",
   "metadata": {
    "slideshow": {
     "slide_type": "slide"
    }
   },
   "source": [
    "## The way we used to do and communicate science\n",
    "\n",
    "We share ideas, results, figures, statistical analysis and code in a PDF document.\n",
    "\n",
    "A PDF document was created to simulate paper: *Is this the best we can do in 2020?*\n",
    "\n",
    "We are seeing a increasing (but shy) movement to improve the way we communicate our ideas, analysis and results in science."
   ]
  },
  {
   "cell_type": "markdown",
   "metadata": {
    "slideshow": {
     "slide_type": "slide"
    }
   },
   "source": [
    "## The way we should do and communicate science \n",
    "\n",
    "<sup> * Ideas from F Perez, K Ram, C Holdgraf, M Pacer, M Ragan-Kelley, J B BuckheitDavid, L Donoho and many others </sup>\n",
    "\n",
    "Ideally, scientific information should be characterized by:\n",
    "\n",
    "- open source\n",
    "- reproducible <sup>1</sup>\n",
    "    - access to the tools used\n",
    "    - access to the interface used to use these tools\n",
    "- contained in easy vehicle/container to:\n",
    "    - communicate\n",
    "    - share\n",
    "    - bundle or bind all the above\n",
    "- easily accesible to everyone\n",
    "\n",
    "**The challenge** is how to achieve all the above.\n",
    "\n",
    "<sup>1</sup> *Buckheit J.B., Donoho D.L. (1995) WaveLab and Reproducible Research. In: Antoniadis A., Oppenheim G. (eds) Wavelets and Statistics. Lecture Notes in Statistics, vol 103. Springer, New York, NY*\n",
    "\n",
    "Check the paper [here](https://link.springer.com/chapter/10.1007/978-1-4612-2544-7_5)"
   ]
  },
  {
   "cell_type": "markdown",
   "metadata": {
    "slideshow": {
     "slide_type": "slide"
    }
   },
   "source": [
    "## Challenge \n",
    "\n",
    "<sup> * Ideas from F Perez, C Holdgraf, M Pacer, M Ragan-Kelley, and many others </sup>\n",
    "\n",
    "Technical reproducibility vs Practical reproducibility (being able to reproduce someone else work effortless).\n",
    "\n",
    "> An article about computational science in a scientific publication is not the scholarship itself, it is merely advertising of the scholarship. The actual scholarship is the complete software development environment and the complete set of instructions which generated the figures.\n",
    "\n",
    "> Buckheit and Donoho, (paraphrasing John Claerbout) - WaveLab and Reproducible Research, 1995\n",
    "\n",
    "This is taken from the very good talk by C Holdgraf, M Pacer, M Ragan-Kelley in Scipy 2018.\n",
    "Watch the talk: https://youtu.be/KcC0W5LP9GM"
   ]
  },
  {
   "cell_type": "markdown",
   "metadata": {
    "slideshow": {
     "slide_type": "slide"
    }
   },
   "source": [
    "## Solutions\n",
    "\n",
    "\n",
    "1. Innovate in the Hardware and Software used \n",
    "\n",
    "2. A clear framework\n",
    "\n",
    "    - Research Compedium\n",
    "\n",
    ">  ...We introduce the concept of a compendium as both a container for the different elements that make up the document and its computations (i.e. text, code, data, ...), and as a means for distributing, managing and updating the collection. \n",
    "\n",
    "> Gentleman and Temple Lang, 2004\n",
    "\n",
    "Want to know more about this watch Karthik Ram [presentation in rstudio::conf(2019)](https://rstudio.com/resources/rstudioconf-2019/a-guide-to-modern-reproducible-data-science-with-r-karthik-ram/)"
   ]
  },
  {
   "cell_type": "markdown",
   "metadata": {
    "slideshow": {
     "slide_type": "slide"
    }
   },
   "source": [
    "## The way forward\n",
    "\n",
    "### New tools\n",
    "\n",
    "Hopefully today we can include additional tools to our toolbox.\n",
    "\n",
    "- ${\\checkmark}$ R\n",
    "- ${\\checkmark}$ Python\n",
    "- ${\\checkmark}$ Git\n",
    "- ${\\checkmark}$ GitHub\n",
    "- ${\\checkmark}$ Rstudio\n",
    "- ${\\square}$ Jupyter Notebook\n",
    "- ${\\square}$ Jupyter Lab\n",
    "- Jupyter Hub\n",
    "- ${\\square}$ Binder\n",
    "- Kubernetes\n",
    "- Docker containers\n",
    "- Zenodo, CodeOcean, Dryad, FigShare, Tropical Data Hub,etc\n"
   ]
  },
  {
   "cell_type": "markdown",
   "metadata": {
    "slideshow": {
     "slide_type": "notes"
    }
   },
   "source": [
    "It seems to be harder for us, the new generation of scientist, as the list of tools we must learn and practice with dexterity is endless. \n",
    "\n",
    "I understand this feeling. My intentions is not to demotivated people with this endless list, but the opposite. These tools have the potential to improve the way we communicate science and enhance the reach of our results and ideas. Many teams are building these tools precisely to reduce the burden in the scientists and programmers.\n",
    "\n",
    "While I consider that it is definetely harder to current scientist to keep up with all available tools and information, I also belive that we do not need to become a master on all these tools. I think we are only required to be aware of the surrounding software and hardware ecosystem and their potentialities in our own research."
   ]
  },
  {
   "cell_type": "markdown",
   "metadata": {
    "slideshow": {
     "slide_type": "slide"
    }
   },
   "source": [
    "## What is Jupyter Notebook\n",
    "\n",
    "> The Jupyter Notebook is an open-source web application that allows you to create and share documents that contain live code, equations, visualizations and narrative text.\n",
    "\n",
    "## What is Jupyter Lab\n",
    "\n",
    "> Jupyter Lab is a web-based interactive development environment for Jupyter notebooks, code, and data. JupyterLab is flexible: configure and arrange the user interface to support a wide range of workflows in data science, scientific computing, and machine learning.\n",
    "\n",
    "## What is Jupyter Hub\n",
    "\n",
    "> A multi-user version of the notebook designed for companies, classrooms and research labs (including Centralized deployment, Authentication, and much more)"
   ]
  },
  {
   "cell_type": "markdown",
   "metadata": {
    "slideshow": {
     "slide_type": "slide"
    }
   },
   "source": [
    "## Jupyter Notebook\n",
    "\n",
    "Started by Fernando Perez, original named IPython.\n",
    "\n",
    "Before him, other computational notebooks were available (e.g. Wolfram Mathematica, Maple and others) since 1980's\n",
    "\n",
    "Currently there are more than 60 interactive notebook environments such as Callisto, PolyNote, and many more <sup>1</sup>.\n",
    "\n",
    "\n",
    "<sup>1</sup> *The Design Space of Computational Notebooks: An Analysis of 60 Systems in Academia and Industry. Sam Lau, Ian Drosos, Julia M. Markel, Philip J. Guo. IEEE Symposium on Visual Languages and Human-Centric Computing (VL/HCC), 2020.* \n",
    "\n",
    "*Check the paper [here](https://pg.ucsd.edu/publications/computational-notebooks-design-space_VLHCC-2020.pdf)*"
   ]
  },
  {
   "cell_type": "markdown",
   "metadata": {
    "slideshow": {
     "slide_type": "slide"
    }
   },
   "source": [
    "## Jupyter ecosystem\n",
    "\n",
    "- Support multiple languages (I think over a hundred)\n",
    "\n",
    "- Active community\n",
    "\n",
    "    - New developments\n",
    "\n",
    "    - Many widgets/plugins for specific tasks\n",
    "\n",
    "- Open Source (and free)\n",
    "\n",
    "- Widely adopted\n",
    "\n",
    "- Interactive code and visualizations in your web browser (you can use it in your phone, tablet, computer)\n",
    "\n",
    "- It is the dream for any Lecturer/Professor teaching subjects with programming language (install and deploy notebooks for many users)"
   ]
  },
  {
   "cell_type": "markdown",
   "metadata": {
    "slideshow": {
     "slide_type": "slide"
    }
   },
   "source": [
    "## Jupyter and notebooks\n",
    "\n",
    "Support Literate programming \n",
    "\n",
    "> From Wikipedia: \"Literate programming is a programming paradigm introduced by Donald Knuth in which a computer program is given an explanation of its logic in a natural language, such as English, interspersed with snippets of macros and traditional source code, from which compilable source code can be generated\"\n",
    "\n",
    "Proposed by Donald E. Knuth in 1984 ![Donald E. Knuth in 1984](http://www.literateprogramming.com/knuthweb.pdf)"
   ]
  },
  {
   "cell_type": "markdown",
   "metadata": {
    "slideshow": {
     "slide_type": "slide"
    }
   },
   "source": [
    "## How to use Jupyter Notebook with R\n",
    "\n",
    "1. Install Jupyter Notebook\n",
    "\n",
    "    - Even though Jupyter Notebooks are able to run many programming languages, Python is a essential requirement.\n",
    "\n",
    "    - Once you have installed pyhton, probably the best way to install Jupyter is using Conda\n",
    "\n",
    "    - This [website](https://jupyter.org/index.html) shows the right steps to install Jupyter Notebook and Jupyter Lab.\n",
    "\n",
    "\n",
    "2. Install R\n",
    "\n",
    "\n",
    "3. Install the R kernel for Jupyter\n",
    "\n",
    "    - How to install: https://github.com/IRkernel/IRkernel or https://irkernel.github.io/installation/\n",
    "\n",
    "\n",
    "You can find a list of all programming language supported in Jupyter in this repo: https://github.com/jupyter/jupyter/wiki/Jupyter-kernels\n"
   ]
  },
  {
   "cell_type": "markdown",
   "metadata": {
    "scrolled": true,
    "slideshow": {
     "slide_type": "skip"
    }
   },
   "source": [
    "## Understanding Jupyter notebooks\n",
    "\n",
    "Notebook Menubar\n",
    "\n",
    "Notebook Toolbar\n",
    "\n",
    "Mode\n",
    "    Edit\n",
    "    Command\n",
    "\n",
    "Cells\n",
    "\n",
    "Cell types\n",
    "\n",
    "     Code\n",
    "     Markdown\n",
    "     Raw NBConvert"
   ]
  }
 ],
 "metadata": {
  "celltoolbar": "Slideshow",
  "kernelspec": {
   "display_name": "R",
   "language": "R",
   "name": "ir"
  },
  "language_info": {
   "codemirror_mode": "r",
   "file_extension": ".r",
   "mimetype": "text/x-r-source",
   "name": "R",
   "pygments_lexer": "r",
   "version": "3.5.1"
  }
 },
 "nbformat": 4,
 "nbformat_minor": 2
}
